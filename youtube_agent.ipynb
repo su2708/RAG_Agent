{
 "cells": [
  {
   "cell_type": "markdown",
   "metadata": {},
   "source": [
    "**2단계:**\n",
    "\n",
    "- 유투브 AI 내용 검색 Agent 추가\n",
    "    - 유투브 API 활용\n",
    "    - 예시 입력 프롬프트 : AI 뉴스관련 영상을 알려줘\n",
    "    - Agent를 통해서 유투브 API를 통해 뉴스 검색 후 검색 된 내용을 프롬프트에 넣어서 알려주기\n",
    "        - streamlit 유투브 영상 화면 까지 같이 보여주기 (재생할 수 있는)\n",
    "    - Agent는 유저의 쿼리를 LLM이 분석해서 특정 함수를 실행\n",
    "    - **공식문서 참고해서 Agent내용 학습후 코드화 (베스트)**\n",
    "        - Quick Start (가이드 코드)\n",
    "        - Lanchain : 안배웠다하더라도 스스로 찾아서 할 수 있어야한다.\n",
    "        - App"
   ]
  },
  {
   "cell_type": "code",
   "execution_count": null,
   "metadata": {},
   "outputs": [],
   "source": []
  }
 ],
 "metadata": {
  "kernelspec": {
   "display_name": "RAG_Agent",
   "language": "python",
   "name": "python3"
  },
  "language_info": {
   "name": "python",
   "version": "3.11.10"
  }
 },
 "nbformat": 4,
 "nbformat_minor": 2
}
