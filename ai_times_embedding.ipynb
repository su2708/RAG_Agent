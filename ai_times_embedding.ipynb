{
 "cells": [
  {
   "cell_type": "code",
   "execution_count": 1,
   "metadata": {},
   "outputs": [],
   "source": [
    "from langchain_community.document_loaders import JSONLoader\n",
    "from langchain_community.embeddings import OpenAIEmbeddings\n",
    "from langchain_community.chat_models import ChatOpenAI\n",
    "from langchain_community.vectorstores import FAISS\n",
    "from langchain.schema.runnable import RunnableLambda, RunnablePassthrough\n",
    "from langchain.callbacks.base import BaseCallbackHandler\n",
    "from langchain.text_splitter import CharacterTextSplitter\n",
    "from langchain.embeddings import CacheBackedEmbeddings\n",
    "from langchain.prompts import ChatPromptTemplate\n",
    "from langchain.storage import LocalFileStore\n",
    "from langchain.schema import Document\n",
    "import os"
   ]
  },
  {
   "cell_type": "code",
   "execution_count": 2,
   "metadata": {},
   "outputs": [
    {
     "name": "stderr",
     "output_type": "stream",
     "text": [
      "C:\\Users\\Public\\Documents\\ESTsoft\\CreatorTemp\\ipykernel_22464\\3616085251.py:1: LangChainDeprecationWarning: The class `ChatOpenAI` was deprecated in LangChain 0.0.10 and will be removed in 1.0. An updated version of the class exists in the :class:`~langchain-openai package and should be used instead. To use it run `pip install -U :class:`~langchain-openai` and import as `from :class:`~langchain_openai import ChatOpenAI``.\n",
      "  llm = ChatOpenAI(temperature=0.1, streaming=True)\n"
     ]
    }
   ],
   "source": [
    "llm = ChatOpenAI(temperature=0.1, streaming=True)\n",
    "\n",
    "# LLM을 활용한 문서 요약 함수\n",
    "def summarize_documents(docs, llm):\n",
    "    summarized_docs = []\n",
    "    for doc in docs:\n",
    "        # 요약 요청을 LLM으로 보내기\n",
    "        summary = llm.predict(f\"이 내용 요약해줘: {doc.page_content}\")\n",
    "        \n",
    "        # Document 객체에 담아 summarized_docs에 추가 \n",
    "        summarized_docs.append(Document(page_content=summary))\n",
    "    return summarized_docs"
   ]
  },
  {
   "cell_type": "code",
   "execution_count": null,
   "metadata": {},
   "outputs": [
    {
     "ename": "SyntaxError",
     "evalue": "expected ':' (924623980.py, line 35)",
     "output_type": "error",
     "traceback": [
      "\u001b[1;36m  Cell \u001b[1;32mIn[3], line 35\u001b[1;36m\u001b[0m\n\u001b[1;33m    with open(summary_docs_path, )\u001b[0m\n\u001b[1;37m                                  ^\u001b[0m\n\u001b[1;31mSyntaxError\u001b[0m\u001b[1;31m:\u001b[0m expected ':'\n"
     ]
    }
   ],
   "source": [
    "def embed_file(file):\n",
    "    \n",
    "    file_content = file.read()  # 파일의 내용을 읽어오기\n",
    "    file_path = f\"./.cache/files/{file.name}\"  # 저장될 파일의 경로\n",
    "    os.makedirs(file_path, exist_ok=True) # 디렉토리가 없으면 만들기\n",
    "    with open(file_path, \"wb\") as f:\n",
    "        f.write(file_content)  # 선택한 파일의 내용을 .cache/files 디렉토리로 옮김\n",
    "\n",
    "    splitter = CharacterTextSplitter.from_tiktoken_encoder(\n",
    "        separator=\"\\n\",\n",
    "        chunk_size=1000,\n",
    "        chunk_overlap=100,\n",
    "    )\n",
    "\n",
    "    loader = JSONLoader(\n",
    "        file_path=file_path,\n",
    "        jq_schema=\".[:10] | .[].content\",  # 10개의 기사만 가져오기\n",
    "        text_content=True,\n",
    "    )\n",
    "\n",
    "    data = loader.load()\n",
    "    \n",
    "    docs = splitter.split_documents(data)  # splitter에 맞게 문서 분할\n",
    "    \n",
    "    # 1.요약하기 버튼을 선택한 경우\n",
    "    # 요약한 문서의 임베딩 결과를 저장할 디렉토리 만들기\n",
    "    summary_cache_dir_path = f\"./.cache/summarized_embeddings/{file.name}\"\n",
    "    os.makedirs(summary_cache_dir_path, exist_ok=True) # 디렉토리가 없으면 만들기\n",
    "    summary_cache_dir = LocalFileStore(summary_cache_dir_path)\n",
    "    \n",
    "    # 문서 요약\n",
    "    summary_docs = summarize_documents(docs, llm)\n",
    "    summary_docs_path = f\"./.cache/summarized_docs/{file.name}\"\n",
    "    os.makedirs(summary_docs_path, exist_ok=True) # 디렉토리가 없으면 만들기\n",
    "    with open(summary_docs_path, \"wb\") as f:\n",
    "        f.write(summary_docs)\n",
    "    \n",
    "    summary_embeddings = OpenAIEmbeddings()\n",
    "\n",
    "    # 중복 요청 시 캐시된 결과를 반환\n",
    "    summary_cached_embeddings = CacheBackedEmbeddings.from_bytes_store(\n",
    "        summary_embeddings, summary_cache_dir\n",
    "    )\n",
    "    \n",
    "    # 2.요약하기 버튼을 선택하지 않은 경우\n",
    "    # 문서의 임베딩 결과를 저장할 디렉토리 만들기\n",
    "    cache_dir_path = f\"./.cache/embeddings/{file.name}\"\n",
    "    os.makedirs(cache_dir_path, exist_ok=True) # 디렉토리가 없으면 만들기\n",
    "    cache_dir = LocalFileStore(cache_dir_path)\n",
    "\n",
    "    embeddings = OpenAIEmbeddings()\n",
    "\n",
    "    # 중복 요청 시 캐시된 결과를 반환\n",
    "    cached_embeddings = CacheBackedEmbeddings.from_bytes_store(\n",
    "        embeddings, cache_dir\n",
    "    )"
   ]
  },
  {
   "cell_type": "code",
   "execution_count": null,
   "metadata": {},
   "outputs": [],
   "source": []
  }
 ],
 "metadata": {
  "kernelspec": {
   "display_name": "RAG_Agent",
   "language": "python",
   "name": "python3"
  },
  "language_info": {
   "codemirror_mode": {
    "name": "ipython",
    "version": 3
   },
   "file_extension": ".py",
   "mimetype": "text/x-python",
   "name": "python",
   "nbconvert_exporter": "python",
   "pygments_lexer": "ipython3",
   "version": "3.11.10"
  }
 },
 "nbformat": 4,
 "nbformat_minor": 2
}
