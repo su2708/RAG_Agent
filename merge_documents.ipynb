{
 "cells": [
  {
   "cell_type": "code",
   "execution_count": null,
   "metadata": {},
   "outputs": [],
   "source": [
    "import json\n",
    "import os"
   ]
  },
  {
   "cell_type": "code",
   "execution_count": 8,
   "metadata": {},
   "outputs": [
    {
     "name": "stdout",
     "output_type": "stream",
     "text": [
      "Reading file: ./files/ai_news\\ai_times_news_20190408-20190408_p801-810.json\n",
      "Reading file: ./files/ai_news\\ai_times_news_20190408-20190408_p811-820.json\n",
      "Reading file: ./files/ai_news\\ai_times_news_20190408-20190408_p821-830.json\n",
      "Reading file: ./files/ai_news\\ai_times_news_20190408-20190408_p831-840.json\n",
      "Reading file: ./files/ai_news\\ai_times_news_20190408-20190408_p841-850.json\n",
      "Reading file: ./files/ai_news\\ai_times_news_20190408-20190913_p791-800.json\n",
      "Reading file: ./files/ai_news\\ai_times_news_20190913-20191004_p781-790.json\n",
      "Reading file: ./files/ai_news\\ai_times_news_20191005-20191111_p771-780.json\n",
      "Reading file: ./files/ai_news\\ai_times_news_20191111-20191205_p761-770.json\n",
      "Reading file: ./files/ai_news\\ai_times_news_20191205-20200117_p751-760.json\n"
     ]
    }
   ],
   "source": [
    "base_dir = \"./files/ai_news\"\n",
    "\n",
    "all_news = []  # 모든 json 데이터를 담을 리스트\n",
    "\n",
    "# 디렉토리 내 파일 불러오기\n",
    "for root, dirs, files in os.walk(base_dir):\n",
    "    # 파일 리스트에서 10개만 처리\n",
    "    for file in files[:10]:\n",
    "        file_path = os.path.join(root, file)\n",
    "        print(f\"Reading file: {file_path}\")\n",
    "        \n",
    "        with open(file_path, 'r', encoding='utf-8') as f:\n",
    "            data = json.load(f)\n",
    "            all_news.append(data)\n",
    "            \n",
    "with open('./document.json', 'w', encoding='utf-8') as f:\n",
    "    json.dump(all_news[0], f, ensure_ascii=False, indent=4)"
   ]
  }
 ],
 "metadata": {
  "kernelspec": {
   "display_name": "RAG_Agent",
   "language": "python",
   "name": "python3"
  },
  "language_info": {
   "codemirror_mode": {
    "name": "ipython",
    "version": 3
   },
   "file_extension": ".py",
   "mimetype": "text/x-python",
   "name": "python",
   "nbconvert_exporter": "python",
   "pygments_lexer": "ipython3",
   "version": "3.11.10"
  }
 },
 "nbformat": 4,
 "nbformat_minor": 2
}
